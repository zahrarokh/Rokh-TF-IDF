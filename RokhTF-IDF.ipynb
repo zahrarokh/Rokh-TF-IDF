{
 "cells": [
  {
   "cell_type": "code",
   "execution_count": 21,
   "id": "489b551c-1539-43bf-8d0f-775ebf991c20",
   "metadata": {},
   "outputs": [],
   "source": [
    "\n",
    "from sklearn.feature_extraction.text import TfidfTransformer\n",
    "from sklearn.feature_extraction.text import CountVectorizer\n",
    "from sklearn.pipeline import Pipeline\n",
    "\n",
    "#Enter your corpus here\n",
    "corpusGLS = [\n",
    "    \"The Mercedes-Benz GLS 600 epitomizes luxury and sophistication in the realm of SUVs, seamlessly blending cutting-edge technology with unparalleled comfort and performance. As the flagship model of the Mercedes-Benz SUV lineup, the GLS 600 sets new standards in automotive excellence, offering a driving experience that is as exhilarating as it is refined.\",\n",
    "    \"At the heart of the GLS 600 lies a formidable powertrain that effortlessly combines performance with efficiency. Powered by a handcrafted 4.0-liter V8 biturbo engine, meticulously engineered by the expert craftsmen at Mercedes-AMG, the GLS 600 delivers an impressive 550 horsepower and 538 lb-ft of torque. Paired with an integrated EQ Boost mild hybrid system, this powerhouse of an engine propels the GLS 600 from 0 to 60 mph in just 4.8 seconds, ensuring exhilarating acceleration and effortless cruising on the open road.\",\n",
    "    \"Complementing its formidable performance capabilities, the GLS 600 boasts a meticulously crafted interior that redefines the concept of luxury. Step inside, and you are greeted by a sanctuary of opulence, where every surface exudes elegance and refinement. From the hand-finished wood trim to the sumptuous leather upholstery, every detail has been carefully curated to create an ambiance of unparalleled comfort and sophistication.\",\n",
    "    \"The GLS 600's interior is not only a feast for the senses but also a showcase of technological innovation. At the center of it all is the MBUX infotainment system, which seamlessly integrates intuitive voice commands, touch controls, and gesture recognition to create a truly immersive driving experience. With features like augmented reality navigation, customizable ambient lighting, and a panoramic sunroof, the GLS 600 ensures that every journey is as enjoyable for passengers as it is for the driver.\",\n",
    "    \"But perhaps the most impressive feature of the GLS 600 is its unrivaled attention to passenger comfort and convenience. With seating for up to seven passengers across three rows, including available executive seating with massaging and reclining functions, the GLS 600 redefines the concept of first-class travel. Add to that features like heated and ventilated seats, a Burmester® 3D surround sound system, and a suite of driver assistance technologies, and you have a vehicle that elevates the art of luxury travel to new heights.\",\n",
    "]\n",
    "\n",
    "#Enter your selcted words to calculate their TF-IDF score\n",
    "vocabulary = ['gls', 'benz', 'suv', 'of', 'with']\n",
    "\n",
    "pipe = Pipeline([('count', CountVectorizer(vocabulary=vocabulary)), ('tfID', TfidfTransformer())]).fit(corpusGLS)"
   ]
  },
  {
   "cell_type": "code",
   "execution_count": 22,
   "id": "c4ec99a8-a6d6-4652-b793-b269907570bc",
   "metadata": {},
   "outputs": [
    {
     "data": {
      "text/plain": [
       "array([[2, 2, 1, 2, 1],\n",
       "       [3, 0, 0, 3, 2],\n",
       "       [1, 0, 0, 3, 0],\n",
       "       [2, 0, 0, 2, 1],\n",
       "       [2, 0, 0, 4, 2]], dtype=int64)"
      ]
     },
     "execution_count": 22,
     "metadata": {},
     "output_type": "execute_result"
    }
   ],
   "source": [
    "pipe['count'].transform(corpusGLS).toarray()"
   ]
  },
  {
   "cell_type": "code",
   "execution_count": 23,
   "id": "87e90041-2d0c-4c45-adce-d228a37c0995",
   "metadata": {},
   "outputs": [
    {
     "data": {
      "text/plain": [
       "array([1.        , 2.09861229, 2.09861229, 1.        , 1.18232156])"
      ]
     },
     "execution_count": 23,
     "metadata": {},
     "output_type": "execute_result"
    }
   ],
   "source": [
    "#printing TF-IDF scores\n",
    "pipe['tfID'].idf_"
   ]
  },
  {
   "cell_type": "code",
   "execution_count": null,
   "id": "0843eaa8-75ac-4221-a719-f059ea2cd5ce",
   "metadata": {},
   "outputs": [],
   "source": []
  }
 ],
 "metadata": {
  "kernelspec": {
   "display_name": "Python 3 (ipykernel)",
   "language": "python",
   "name": "python3"
  },
  "language_info": {
   "codemirror_mode": {
    "name": "ipython",
    "version": 3
   },
   "file_extension": ".py",
   "mimetype": "text/x-python",
   "name": "python",
   "nbconvert_exporter": "python",
   "pygments_lexer": "ipython3",
   "version": "3.10.8"
  }
 },
 "nbformat": 4,
 "nbformat_minor": 5
}
